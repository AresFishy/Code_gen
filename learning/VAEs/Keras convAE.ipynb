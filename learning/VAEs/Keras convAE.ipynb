{
 "cells": [
  {
   "cell_type": "code",
   "execution_count": 2,
   "metadata": {},
   "outputs": [],
   "source": [
    "# tutorial from keras blog https://blog.keras.io/building-autoencoders-in-keras.html\n",
    "\n",
    "import tensorflow as tf\n",
    "from keras.layers import Input, Dense, Conv2D, MaxPooling2D, UpSampling2D\n",
    "from keras.models import Model\n",
    "from keras.datasets import mnist\n",
    "from keras.callbacks import TensorBoard\n",
    "import numpy as np\n",
    "\n",
    "import matplotlib.pyplot as plt\n",
    "%matplotlib inline"
   ]
  },
  {
   "cell_type": "code",
   "execution_count": 7,
   "metadata": {},
   "outputs": [],
   "source": [
    "input_img = Input(shape=(28, 28, 1))\n",
    "\n",
    "# Apparently part of the reason convolutional autoencoders work better is \n",
    "# because of the higher \"Entropic capacity\" of the latent representation,\n",
    "# in this case 128 dims vs lower dim no. in standard autoencoders\n",
    "\n",
    "# Encoder\n",
    "x = Conv2D(16, (3, 3), activation='relu', padding='same')(input_img)\n",
    "x = MaxPooling2D((2,2), padding='same')(x)\n",
    "x = Conv2D(8, (3, 3), activation='relu', padding='same')(x)\n",
    "x = MaxPooling2D((2, 2), padding='same')(x)\n",
    "encoded = MaxPooling2D((2, 2), padding='same')(x)\n",
    "\n",
    "# Decoder\n",
    "x = Conv2D(8, (3, 3), activation='relu', padding='same')(encoded)\n",
    "x = UpSampling2D((2, 2))(x)\n",
    "x = Conv2D(8, (3, 3), activation='relu', padding='same')(x)\n",
    "x = UpSampling2D((2, 2))(x)\n",
    "x = Conv2D(16, (3, 3), activation='relu')(x)\n",
    "x = UpSampling2D((2, 2))(x)\n",
    "decoded = Conv2D(1, (3, 3), activation='sigmoid', padding='same')(x)"
   ]
  },
  {
   "cell_type": "code",
   "execution_count": 8,
   "metadata": {},
   "outputs": [],
   "source": [
    "autoencoder = Model(input_img, decoded)"
   ]
  },
  {
   "cell_type": "code",
   "execution_count": 9,
   "metadata": {},
   "outputs": [],
   "source": [
    "autoencoder.compile(optimizer='adadelta', loss='binary_crossentropy')"
   ]
  },
  {
   "cell_type": "code",
   "execution_count": 10,
   "metadata": {},
   "outputs": [],
   "source": [
    "(x_train, _), (x_test, _) = mnist.load_data()\n",
    "\n",
    "x_train = x_train.astype('float32') / 255.\n",
    "x_test = x_test.astype('float32') / 255.\n",
    "x_train = np.reshape(x_train, (len(x_train), 28, 28, 1))  # adapt this if using `channels_first` image data format\n",
    "x_test = np.reshape(x_test, (len(x_test), 28, 28, 1))"
   ]
  },
  {
   "cell_type": "code",
   "execution_count": 11,
   "metadata": {
    "scrolled": true
   },
   "outputs": [
    {
     "name": "stdout",
     "output_type": "stream",
     "text": [
      "Train on 60000 samples, validate on 10000 samples\n",
      "Epoch 1/50\n",
      "60000/60000 [==============================] - 17s 280us/step - loss: 0.2453 - val_loss: 0.1900\n",
      "Epoch 2/50\n",
      "60000/60000 [==============================] - 13s 216us/step - loss: 0.1766 - val_loss: 0.1667\n",
      "Epoch 3/50\n",
      "60000/60000 [==============================] - 12s 202us/step - loss: 0.1574 - val_loss: 0.1527\n",
      "Epoch 4/50\n",
      "60000/60000 [==============================] - 12s 198us/step - loss: 0.1461 - val_loss: 0.1439\n",
      "Epoch 5/50\n",
      "60000/60000 [==============================] - 12s 203us/step - loss: 0.1389 - val_loss: 0.1371\n",
      "Epoch 6/50\n",
      "60000/60000 [==============================] - 13s 210us/step - loss: 0.1340 - val_loss: 0.1304\n",
      "Epoch 7/50\n",
      "60000/60000 [==============================] - 13s 214us/step - loss: 0.1309 - val_loss: 0.1285\n",
      "Epoch 8/50\n",
      "60000/60000 [==============================] - 13s 211us/step - loss: 0.1281 - val_loss: 0.1239\n",
      "Epoch 9/50\n",
      "60000/60000 [==============================] - 12s 206us/step - loss: 0.1260 - val_loss: 0.1227\n",
      "Epoch 10/50\n",
      "60000/60000 [==============================] - 13s 223us/step - loss: 0.1239 - val_loss: 0.1214\n",
      "Epoch 11/50\n",
      "60000/60000 [==============================] - 13s 210us/step - loss: 0.1221 - val_loss: 0.1222\n",
      "Epoch 12/50\n",
      "60000/60000 [==============================] - 13s 214us/step - loss: 0.1210 - val_loss: 0.1210\n",
      "Epoch 13/50\n",
      "60000/60000 [==============================] - 13s 217us/step - loss: 0.1201 - val_loss: 0.1185\n",
      "Epoch 14/50\n",
      "60000/60000 [==============================] - 12s 208us/step - loss: 0.1190 - val_loss: 0.1177\n",
      "Epoch 15/50\n",
      "60000/60000 [==============================] - 13s 216us/step - loss: 0.1180 - val_loss: 0.1175\n",
      "Epoch 16/50\n",
      "60000/60000 [==============================] - 13s 213us/step - loss: 0.1173 - val_loss: 0.1169\n",
      "Epoch 17/50\n",
      "60000/60000 [==============================] - 13s 213us/step - loss: 0.1160 - val_loss: 0.1140\n",
      "Epoch 18/50\n",
      "60000/60000 [==============================] - 12s 206us/step - loss: 0.1150 - val_loss: 0.1121\n",
      "Epoch 19/50\n",
      "60000/60000 [==============================] - 12s 204us/step - loss: 0.1143 - val_loss: 0.1140\n",
      "Epoch 20/50\n",
      "60000/60000 [==============================] - 10s 163us/step - loss: 0.1138 - val_loss: 0.1125\n",
      "Epoch 21/50\n",
      "60000/60000 [==============================] - 10s 164us/step - loss: 0.1134 - val_loss: 0.1109\n",
      "Epoch 22/50\n",
      "60000/60000 [==============================] - 10s 167us/step - loss: 0.1126 - val_loss: 0.1115\n",
      "Epoch 23/50\n",
      "60000/60000 [==============================] - 10s 162us/step - loss: 0.1121 - val_loss: 0.1109\n",
      "Epoch 24/50\n",
      "60000/60000 [==============================] - 10s 163us/step - loss: 0.1113 - val_loss: 0.1095\n",
      "Epoch 25/50\n",
      "60000/60000 [==============================] - 10s 163us/step - loss: 0.1108 - val_loss: 0.1081\n",
      "Epoch 26/50\n",
      "60000/60000 [==============================] - 10s 163us/step - loss: 0.1103 - val_loss: 0.1092\n",
      "Epoch 27/50\n",
      "60000/60000 [==============================] - 10s 163us/step - loss: 0.1098 - val_loss: 0.1079\n",
      "Epoch 28/50\n",
      "60000/60000 [==============================] - 10s 163us/step - loss: 0.1096 - val_loss: 0.1096\n",
      "Epoch 29/50\n",
      "60000/60000 [==============================] - 10s 162us/step - loss: 0.1093 - val_loss: 0.1086\n",
      "Epoch 30/50\n",
      "60000/60000 [==============================] - 10s 163us/step - loss: 0.1088 - val_loss: 0.1069\n",
      "Epoch 31/50\n",
      "60000/60000 [==============================] - 10s 163us/step - loss: 0.1087 - val_loss: 0.1092\n",
      "Epoch 32/50\n",
      "60000/60000 [==============================] - 10s 165us/step - loss: 0.1085 - val_loss: 0.1069\n",
      "Epoch 33/50\n",
      "60000/60000 [==============================] - 10s 163us/step - loss: 0.1081 - val_loss: 0.1061\n",
      "Epoch 34/50\n",
      "60000/60000 [==============================] - 10s 162us/step - loss: 0.1076 - val_loss: 0.1058\n",
      "Epoch 35/50\n",
      "60000/60000 [==============================] - 10s 161us/step - loss: 0.1073 - val_loss: 0.1056\n",
      "Epoch 36/50\n",
      "60000/60000 [==============================] - 10s 163us/step - loss: 0.1070 - val_loss: 0.1071\n",
      "Epoch 37/50\n",
      "60000/60000 [==============================] - 10s 163us/step - loss: 0.1066 - val_loss: 0.1054\n",
      "Epoch 38/50\n",
      "60000/60000 [==============================] - 10s 163us/step - loss: 0.1064 - val_loss: 0.1056\n",
      "Epoch 39/50\n",
      "60000/60000 [==============================] - 10s 163us/step - loss: 0.1060 - val_loss: 0.1051\n",
      "Epoch 40/50\n",
      "60000/60000 [==============================] - 10s 162us/step - loss: 0.1063 - val_loss: 0.1064\n",
      "Epoch 41/50\n",
      "60000/60000 [==============================] - 10s 162us/step - loss: 0.1058 - val_loss: 0.1056\n",
      "Epoch 42/50\n",
      "60000/60000 [==============================] - 10s 162us/step - loss: 0.1054 - val_loss: 0.1044\n",
      "Epoch 43/50\n",
      "60000/60000 [==============================] - 10s 160us/step - loss: 0.1052 - val_loss: 0.1040\n",
      "Epoch 44/50\n",
      "60000/60000 [==============================] - 10s 161us/step - loss: 0.1051 - val_loss: 0.1058\n",
      "Epoch 45/50\n",
      "60000/60000 [==============================] - 10s 161us/step - loss: 0.1049 - val_loss: 0.1039\n",
      "Epoch 46/50\n",
      "60000/60000 [==============================] - 10s 161us/step - loss: 0.1049 - val_loss: 0.1063\n",
      "Epoch 47/50\n",
      "60000/60000 [==============================] - 10s 161us/step - loss: 0.1044 - val_loss: 0.1033\n",
      "Epoch 48/50\n",
      "60000/60000 [==============================] - 10s 161us/step - loss: 0.1042 - val_loss: 0.1029\n",
      "Epoch 49/50\n",
      "60000/60000 [==============================] - 10s 162us/step - loss: 0.1042 - val_loss: 0.1028\n",
      "Epoch 50/50\n",
      "60000/60000 [==============================] - 10s 159us/step - loss: 0.1041 - val_loss: 0.1027\n"
     ]
    },
    {
     "data": {
      "text/plain": [
       "<keras.callbacks.History at 0x212cbfc8438>"
      ]
     },
     "execution_count": 11,
     "metadata": {},
     "output_type": "execute_result"
    }
   ],
   "source": [
    "autoencoder.fit(x_train, x_train, epochs=50,\n",
    "               batch_size=128, shuffle=True,\n",
    "               validation_data=(x_test, x_test),\n",
    "               callbacks=[TensorBoard(log_dir='/tmp/autoencoder')])"
   ]
  },
  {
   "cell_type": "code",
   "execution_count": 14,
   "metadata": {},
   "outputs": [
    {
     "data": {
      "image/png": "[encoded data removed]",
      "text/plain": [
       "<matplotlib.figure.Figure at 0x212da0b4128>"
      ]
     },
     "metadata": {},
     "output_type": "display_data"
    }
   ],
   "source": [
    "decoded_imgs = autoencoder.predict(x_test)\n",
    "\n",
    "n = 10\n",
    "plt.figure(figsize=(20, 4))\n",
    "for i in range(n):\n",
    "    ax = plt.subplot(2, n, i+1)\n",
    "    plt.imshow(x_test[i].reshape(28, 28))\n",
    "    plt.gray()\n",
    "    ax.get_xaxis().set_visible(False)\n",
    "    ax.get_yaxis().set_visible(False)\n",
    "    \n",
    "    ax = plt.subplot(2, n, i+n+1)\n",
    "    plt.imshow(decoded_imgs[i].reshape(28, 28))\n",
    "    plt.gray()\n",
    "    ax.get_xaxis().set_visible(False)\n",
    "    ax.get_yaxis().set_visible(False)"
   ]
  },
  {
   "cell_type": "code",
   "execution_count": null,
   "metadata": {},
   "outputs": [],
   "source": []
  },
  {
   "cell_type": "code",
   "execution_count": null,
   "metadata": {},
   "outputs": [],
   "source": []
  }
 ],
 "metadata": {
  "kernelspec": {
   "display_name": "Python 3",
   "language": "python",
   "name": "python3"
  },
  "language_info": {
   "codemirror_mode": {
    "name": "ipython",
    "version": 3
   },
   "file_extension": ".py",
   "mimetype": "text/x-python",
   "name": "python",
   "nbconvert_exporter": "python",
   "pygments_lexer": "ipython3",
   "version": "3.5.4"
  }
 },
 "nbformat": 4,
 "nbformat_minor": 2
}
