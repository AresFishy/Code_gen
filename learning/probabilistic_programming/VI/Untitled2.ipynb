{
 "cells": [
  {
   "cell_type": "code",
   "execution_count": 22,
   "metadata": {},
   "outputs": [],
   "source": [
    "import math\n",
    "from scipy.stats import multivariate_normal as mv\n",
    "import numpy as np\n",
    "import matplotlib.pyplot as plt\n",
    "import seaborn as sns\n",
    "from jupyterthemes import jtplot\n",
    "jtplot.style('oceans16')\n",
    "\n",
    "%matplotlib inline"
   ]
  },
  {
   "cell_type": "code",
   "execution_count": 4,
   "metadata": {},
   "outputs": [
    {
     "name": "stdout",
     "output_type": "stream",
     "text": [
      "[6.878471842374035, 8.143905526598505, -5.483030302022521]\n"
     ]
    }
   ],
   "source": [
    "prior_std = 10 # hyperparameter\n",
    "\n",
    "# true parameters\n",
    "K = 3\n",
    "mu = []\n",
    "for i in range(K):\n",
    "    mu.append(np.random.normal(0, prior_std))\n",
    "\n",
    "var = 1\n",
    "var_arr = [1, 1, 1]\n",
    "print(mu)"
   ]
  },
  {
   "cell_type": "code",
   "execution_count": 5,
   "metadata": {},
   "outputs": [],
   "source": [
    "color = ['blue', 'green', 'red', 'magent', 'yellow']"
   ]
  },
  {
   "cell_type": "code",
   "execution_count": 6,
   "metadata": {},
   "outputs": [
    {
     "data": {
      "text/plain": [
       "(1000,)"
      ]
     },
     "execution_count": 6,
     "metadata": {},
     "output_type": "execute_result"
    }
   ],
   "source": [
    "n = 1000\n",
    "mixture_selection_matrix = np.identity(K)\n",
    "N = np.random.choice(K,n)\n",
    "N.shape"
   ]
  },
  {
   "cell_type": "code",
   "execution_count": 7,
   "metadata": {},
   "outputs": [
    {
     "data": {
      "text/plain": [
       "<Figure size 432x288 with 0 Axes>"
      ]
     },
     "metadata": {},
     "output_type": "display_data"
    }
   ],
   "source": [
    "from collections import defaultdict\n",
    "data = []\n",
    "data_resp = defaultdict(list)\n",
    "plt.figure(1)\n",
    "for i in range(n):\n",
    "    mean = np.dot(mixture_selection_matrix[N[i]], mu)\n",
    "    cov = np.dot(mixture_selection_matrix[N[i]], var_arr)*var\n",
    "    x = np.random.normal(mean, cov)\n",
    "    data.append(x)\n",
    "    data_resp[N[i]].append(x)"
   ]
  },
  {
   "cell_type": "code",
   "execution_count": 23,
   "metadata": {},
   "outputs": [
    {
     "data": {
      "image/png": "[encoded data removed]",
      "text/plain": [
       "<Figure size 432x288 with 1 Axes>"
      ]
     },
     "metadata": {},
     "output_type": "display_data"
    }
   ],
   "source": [
    "for k in range(K):\n",
    "    plt.hist(data_resp[k], bins=30, color=color[k], histtype='step', lw=2);\n",
    "plt.hist(data, color='m', bins=90, alpha=0.3);"
   ]
  },
  {
   "cell_type": "code",
   "execution_count": 51,
   "metadata": {},
   "outputs": [],
   "source": [
    "def VI(K, prior_std, n, data):\n",
    "    # Initialization\n",
    "    mu_mean = []\n",
    "    mu_var = []\n",
    "    for i in range(K):\n",
    "        mu_mean.append(np.random.normal(0, prior_std))\n",
    "        mu_var.append(abs(np.random.normal(0, prior_std)))\n",
    "    \n",
    "    c_est = np.zeros((n, K))\n",
    "    for i in range(n):\n",
    "        c_est[i, np.random.choice(K)] = 1\n",
    "        \n",
    "    # Initiate CAVI iterations\n",
    "    while(True):\n",
    "        mu_mean_old = mu_mean[:]\n",
    "        \n",
    "        # mixture model parameter update step\n",
    "        for j in range(K):\n",
    "            nr = 0\n",
    "            dr = 0\n",
    "            for i in range(n):\n",
    "                nr += c_est[i, j]*data[i]\n",
    "                dr += c_est[i, j]\n",
    "            mu_mean[j] = nr/((1/prior_std**2) + dr)\n",
    "            mu_var[j] = 1.0/((1/prior_std**2) + dr)\n",
    "\n",
    "\n",
    "        # categorical vector update step\n",
    "        for i in range(n):\n",
    "            cat_vec = []\n",
    "            for j in range(K):\n",
    "                cat_vec.append(math.exp(mu_mean[j]*data[i] - (mu_var[j] + mu_mean[j]**2)/2))\n",
    "            for k in range(K):\n",
    "                c_est[i, k] = cat_vec[k]/np.sum(np.array(cat_vec))\n",
    "                \n",
    "        # compute ELBO or check for convergence of variational factors - here we do the latter\n",
    "        if np.dot(np.array(mu_mean_old) - np.array(mu_mean), np.array(mu_mean_old) - np.array(mu_mean)) < 0.00001:\n",
    "            break\n",
    "\n",
    "    # sort the values since the k mixture components dont maintain any ordering across multiple initializations\n",
    "    mixture_components = list(zip(mu_mean, mu_var))\n",
    "    mixture_components.sort()\n",
    "    return mixture_components, c_est"
   ]
  },
  {
   "cell_type": "code",
   "execution_count": 52,
   "metadata": {},
   "outputs": [],
   "source": [
    "mixture_components, c_est = VI(K, prior_std, n, data)"
   ]
  },
  {
   "cell_type": "code",
   "execution_count": 53,
   "metadata": {},
   "outputs": [
    {
     "name": "stdout",
     "output_type": "stream",
     "text": [
      "3 || [(-5.490802029421355, 0.003086324496157526), (6.773119513537158, 0.0029461885635759595), (8.13721067964549, 0.0029708993374482394)] || [[1.00000000e+00 4.79247441e-36 5.19165952e-44]\n",
      " [1.25813658e-41 2.62801299e-01 7.37198701e-01]\n",
      " [5.94044345e-43 2.06790706e-01 7.93209294e-01]\n",
      " ...\n",
      " [2.00704049e-28 9.01397358e-01 9.86026423e-02]\n",
      " [4.63355712e-47 9.07242117e-02 9.09275788e-01]\n",
      " [9.81954300e-38 4.74921556e-01 5.25078444e-01]]\n"
     ]
    },
    {
     "name": "stderr",
     "output_type": "stream",
     "text": [
      "C:\\Users\\ares\\Anaconda3\\envs\\py35\\lib\\site-packages\\matplotlib\\axes\\_axes.py:6448: UserWarning: The 'normed' kwarg is deprecated, and has been replaced by the 'density' kwarg.\n",
      "  warnings.warn(\"The 'normed' kwarg is deprecated, and has been \"\n"
     ]
    },
    {
     "data": {
      "image/png": "[encoded data removed]",
      "text/plain": [
       "<Figure size 1080x288 with 1 Axes>"
      ]
     },
     "metadata": {},
     "output_type": "display_data"
    }
   ],
   "source": [
    "print(K,\"||\",mixture_components, \"||\", c_est)\n",
    "plt.figure(figsize=(15,4))\n",
    "for k in range(K):\n",
    "    plt.hist(data_resp[k], bins=30, color=color[k], alpha=0.2, normed=True);\n",
    "for k in range(K):\n",
    "    vals=np.random.normal(mixture_components[k][0], 1, size=1000)\n",
    "    sns.kdeplot(vals,  color='k');"
   ]
  },
  {
   "cell_type": "code",
   "execution_count": 41,
   "metadata": {},
   "outputs": [
    {
     "name": "stderr",
     "output_type": "stream",
     "text": [
      "C:\\Users\\ares\\Anaconda3\\envs\\py35\\lib\\site-packages\\matplotlib\\axes\\_axes.py:6448: UserWarning: The 'normed' kwarg is deprecated, and has been replaced by the 'density' kwarg.\n",
      "  warnings.warn(\"The 'normed' kwarg is deprecated, and has been \"\n"
     ]
    },
    {
     "data": {
      "text/plain": [
       "<matplotlib.axes._subplots.AxesSubplot at 0x17a53437b38>"
      ]
     },
     "execution_count": 41,
     "metadata": {},
     "output_type": "execute_result"
    },
    {
     "data": {
      "image/png": "[encoded data removed]",
      "text/plain": [
       "<Figure size 432x288 with 1 Axes>"
      ]
     },
     "metadata": {},
     "output_type": "display_data"
    }
   ],
   "source": [
    "sns.distplot(c_est[:,0])"
   ]
  },
  {
   "cell_type": "code",
   "execution_count": null,
   "metadata": {},
   "outputs": [],
   "source": []
  },
  {
   "cell_type": "code",
   "execution_count": null,
   "metadata": {},
   "outputs": [],
   "source": []
  }
 ],
 "metadata": {
  "kernelspec": {
   "display_name": "Python 3",
   "language": "python",
   "name": "python3"
  },
  "language_info": {
   "codemirror_mode": {
    "name": "ipython",
    "version": 3
   },
   "file_extension": ".py",
   "mimetype": "text/x-python",
   "name": "python",
   "nbconvert_exporter": "python",
   "pygments_lexer": "ipython3",
   "version": "3.5.5"
  }
 },
 "nbformat": 4,
 "nbformat_minor": 2
}
