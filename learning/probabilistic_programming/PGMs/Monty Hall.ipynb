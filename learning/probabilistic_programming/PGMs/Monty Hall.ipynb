{
 "cells": [
  {
   "cell_type": "code",
   "execution_count": 1,
   "metadata": {},
   "outputs": [],
   "source": [
    "from pgmpy.models import BayesianModel\n",
    "from pgmpy.factors.discrete import TabularCPD\n"
   ]
  },
  {
   "cell_type": "code",
   "execution_count": 20,
   "metadata": {},
   "outputs": [
    {
     "data": {
      "text/plain": [
       "[<TabularCPD representing P(C:3) at 0x1833f3c5ac8>,\n",
       " <TabularCPD representing P(P:3) at 0x1833f3c5b00>,\n",
       " <TabularCPD representing P(H:3 | C:3, P:3) at 0x1833f3c57b8>]"
      ]
     },
     "execution_count": 20,
     "metadata": {},
     "output_type": "execute_result"
    }
   ],
   "source": [
    "\n",
    "# Defining the network structure\n",
    "model = BayesianModel([('C', 'H'), ('P', 'H')])\n",
    "\n",
    "# Defining the CPDs:\n",
    "cpd_c = TabularCPD('C', 3, [[0.33, 0.33, 0.33]])\n",
    "cpd_p = TabularCPD('P', 3, [[0.33, 0.33, 0.33]])\n",
    "cpd_h = TabularCPD('H', 3, [[0, 0, 0, 0, 0.5, 1, 0, 1, 0.5], \n",
    "                            [0.5, 0, 1, 0, 0, 0, 1, 0, 0.5], \n",
    "                            [0.5, 1, 0, 1, 0.5, 0, 0, 0, 0]],\n",
    "                  evidence=['C', 'P'], evidence_card=[3, 3])\n",
    "\n",
    "# Associating the CPDs with the network structure.\n",
    "model.add_cpds(cpd_c, cpd_p, cpd_h)\n",
    "\n",
    "# Some other methods\n",
    "model.get_cpds()"
   ]
  },
  {
   "cell_type": "code",
   "execution_count": 21,
   "metadata": {},
   "outputs": [
    {
     "data": {
      "text/plain": [
       "True"
      ]
     },
     "execution_count": 21,
     "metadata": {},
     "output_type": "execute_result"
    }
   ],
   "source": [
    "model.check_model()\n",
    "# he make exist! (actually checks to see everything makes sense)"
   ]
  },
  {
   "cell_type": "code",
   "execution_count": 27,
   "metadata": {},
   "outputs": [
    {
     "name": "stdout",
     "output_type": "stream",
     "text": [
      "╒═════╤══════════╕\n",
      "│ P   │   phi(P) │\n",
      "╞═════╪══════════╡\n",
      "│ P_0 │   0.6667 │\n",
      "├─────┼──────────┤\n",
      "│ P_1 │   0.3333 │\n",
      "├─────┼──────────┤\n",
      "│ P_2 │   0.0000 │\n",
      "╘═════╧══════════╛\n"
     ]
    }
   ],
   "source": [
    "from pgmpy.inference import VariableElimination\n",
    "\n",
    "infer = VariableElimination(model)\n",
    "posterior_p = infer.query(['P'], evidence={'C': 1, 'H': 2})\n",
    "print(posterior_p['P'])"
   ]
  },
  {
   "cell_type": "code",
   "execution_count": 9,
   "metadata": {},
   "outputs": [],
   "source": [
    "from pgmpy.inference import BeliefPropagation"
   ]
  },
  {
   "cell_type": "code",
   "execution_count": 10,
   "metadata": {},
   "outputs": [],
   "source": [
    "BeliefPropagation?"
   ]
  },
  {
   "cell_type": "code",
   "execution_count": 11,
   "metadata": {},
   "outputs": [
    {
     "name": "stdout",
     "output_type": "stream",
     "text": [
      "[<TabularCPD representing P(C:3) at 0x1833e8bbb38>, <TabularCPD representing P(P:3) at 0x1833e8bbba8>, <TabularCPD representing P(H:3 | C:3, P:3) at 0x1833e8bbb00>]\n"
     ]
    }
   ],
   "source": [
    "print(model.cpds)"
   ]
  },
  {
   "cell_type": "code",
   "execution_count": 12,
   "metadata": {},
   "outputs": [],
   "source": [
    "aa = model.cpds"
   ]
  },
  {
   "cell_type": "code",
   "execution_count": 17,
   "metadata": {},
   "outputs": [
    {
     "name": "stdout",
     "output_type": "stream",
     "text": [
      "[[[0.  0.  0. ]\n",
      "  [0.  0.5 1. ]\n",
      "  [0.  1.  0.5]]\n",
      "\n",
      " [[0.5 0.  1. ]\n",
      "  [0.  0.  0. ]\n",
      "  [1.  0.  0.5]]\n",
      "\n",
      " [[0.5 1.  0. ]\n",
      "  [1.  0.5 0. ]\n",
      "  [0.  0.  0. ]]]\n"
     ]
    }
   ],
   "source": [
    "print(aa[2].values)"
   ]
  },
  {
   "cell_type": "code",
   "execution_count": null,
   "metadata": {},
   "outputs": [],
   "source": []
  }
 ],
 "metadata": {
  "kernelspec": {
   "display_name": "Python 3",
   "language": "python",
   "name": "python3"
  },
  "language_info": {
   "codemirror_mode": {
    "name": "ipython",
    "version": 3
   },
   "file_extension": ".py",
   "mimetype": "text/x-python",
   "name": "python",
   "nbconvert_exporter": "python",
   "pygments_lexer": "ipython3",
   "version": "3.5.5"
  }
 },
 "nbformat": 4,
 "nbformat_minor": 2
}
