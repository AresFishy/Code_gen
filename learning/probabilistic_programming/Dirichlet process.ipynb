{
 "cells": [
  {
   "cell_type": "code",
   "execution_count": 1,
   "metadata": {},
   "outputs": [],
   "source": [
    "import tensorflow as tf\n",
    "import edward as ed\n",
    "from edward.models import Bernoulli, Beta, DirichletProcess, Exponential, Normal\n",
    "\n",
    "import matplotlib.pyplot as plt\n",
    "import numpy as np\n",
    "import seaborn as sns\n",
    "from jupyterthemes import jtplot\n",
    "jtplot.style('oceans16')\n",
    "\n",
    "%matplotlib inline"
   ]
  },
  {
   "cell_type": "code",
   "execution_count": 2,
   "metadata": {},
   "outputs": [],
   "source": [
    "def dirichlet_process(alpha):\n",
    "    def cond(k, beta_k):\n",
    "        flip = Bernoulli(beta_k)\n",
    "        return tf.cast(1-flip, tf.bool)\n",
    "    \n",
    "    def body(k, beta_k):\n",
    "        beta_k = Beta(1.0, alpha)\n",
    "        return k+1, beta_k\n",
    "    \n",
    "    k = tf.constant(0)\n",
    "    beta_k = Beta(1.0, alpha)\n",
    "    stick_num, stick_beta = tf.while_loop(cond, body, loop_vars=[k, beta_k])\n",
    "    return stick_num\n",
    "    "
   ]
  },
  {
   "cell_type": "code",
   "execution_count": 3,
   "metadata": {},
   "outputs": [],
   "source": [
    "dp = dirichlet_process(10.0)"
   ]
  },
  {
   "cell_type": "code",
   "execution_count": 4,
   "metadata": {},
   "outputs": [
    {
     "name": "stdout",
     "output_type": "stream",
     "text": [
      "0\n",
      "1\n"
     ]
    }
   ],
   "source": [
    "sess = tf.InteractiveSession()\n",
    "print(sess.run(dp))\n",
    "print(sess.run(dp))"
   ]
  },
  {
   "cell_type": "code",
   "execution_count": 5,
   "metadata": {},
   "outputs": [
    {
     "data": {
      "image/png": "[encoded data removed]",
      "text/plain": [
       "<matplotlib.figure.Figure at 0x1697e3e9e10>"
      ]
     },
     "metadata": {},
     "output_type": "display_data"
    },
    {
     "data": {
      "image/png": "[encoded data removed]",
      "text/plain": [
       "<matplotlib.figure.Figure at 0x1691a66c860>"
      ]
     },
     "metadata": {},
     "output_type": "display_data"
    },
    {
     "data": {
      "image/png": "[encoded data removed]",
      "text/plain": [
       "<matplotlib.figure.Figure at 0x1691d969c88>"
      ]
     },
     "metadata": {},
     "output_type": "display_data"
    },
    {
     "name": "stdout",
     "output_type": "stream",
     "text": [
      "[0.96817374, 0.96817374]\n",
      "[0.59448326, 0.59448326]\n",
      "RandomVariable(\"DirichletProcess_4/\", shape=(3, 5, 2), dtype=int32)\n"
     ]
    }
   ],
   "source": [
    "  # Demo of the DirichletProcess random variable in Edward.\n",
    "  base = Normal(0.0, 1.0)\n",
    "\n",
    "  # Highly concentrated DP.\n",
    "  alpha = 1.0\n",
    "  dp = DirichletProcess(alpha, base)\n",
    "  x = dp.sample(1000)\n",
    "  samples = sess.run(x)\n",
    "  plt.hist(samples, bins=100, range=(-3.0, 3.0))\n",
    "  plt.title(\"DP({0}, N(0, 1))\".format(alpha))\n",
    "  plt.show()\n",
    "\n",
    "  # More spread out DP.\n",
    "  alpha = 50.0\n",
    "  dp = DirichletProcess(alpha, base)\n",
    "  x = dp.sample(1000)\n",
    "  samples = sess.run(x)\n",
    "  plt.hist(samples, bins=100, range=(-3.0, 3.0))\n",
    "  plt.title(\"DP({0}, N(0, 1))\".format(alpha))\n",
    "  plt.show()\n",
    "\n",
    "  # States persist across calls to sample() in a DP.\n",
    "  alpha = 1.0\n",
    "  dp = DirichletProcess(alpha, base)\n",
    "  x = dp.sample(50)\n",
    "  y = dp.sample(75)\n",
    "  samples_x, samples_y = sess.run([x, y])\n",
    "  plt.subplot(211)\n",
    "  plt.hist(samples_x, bins=100, range=(-3.0, 3.0))\n",
    "  plt.title(\"DP({0}, N(0, 1)) across two calls to sample()\".format(alpha))\n",
    "  plt.subplot(212)\n",
    "  plt.hist(samples_y, bins=100, range=(-3.0, 3.0))\n",
    "  plt.show()\n",
    "\n",
    "  # `theta` is the distribution indirectly returned by the DP.\n",
    "  # Fetching theta is the same as fetching the Dirichlet process.\n",
    "  dp = DirichletProcess(alpha, base)\n",
    "  theta = Normal(0.0, 1.0, value=tf.cast(dp, tf.float32))\n",
    "  print(sess.run([dp, theta]))\n",
    "  print(sess.run([dp, theta]))\n",
    "\n",
    "  # DirichletProcess can also take in non-scalar concentrations and bases.\n",
    "  alpha = tf.constant([0.1, 0.6, 0.4])\n",
    "  base = Exponential(rate=tf.ones([5, 2]))\n",
    "  dp = DirichletProcess(alpha, base)\n",
    "  print(dp)"
   ]
  },
  {
   "cell_type": "code",
   "execution_count": null,
   "metadata": {},
   "outputs": [],
   "source": []
  }
 ],
 "metadata": {
  "kernelspec": {
   "display_name": "Python 3",
   "language": "python",
   "name": "python3"
  },
  "language_info": {
   "codemirror_mode": {
    "name": "ipython",
    "version": 3
   },
   "file_extension": ".py",
   "mimetype": "text/x-python",
   "name": "python",
   "nbconvert_exporter": "python",
   "pygments_lexer": "ipython3",
   "version": "3.5.4"
  }
 },
 "nbformat": 4,
 "nbformat_minor": 2
}
