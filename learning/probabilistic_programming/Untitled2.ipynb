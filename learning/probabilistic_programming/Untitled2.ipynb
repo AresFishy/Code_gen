{
 "cells": [
  {
   "cell_type": "code",
   "execution_count": 1,
   "metadata": {},
   "outputs": [],
   "source": [
    "import argparse\n",
    "import numpy as np\n",
    "import torch\n",
    "from torch.autograd import Variable\n",
    "\n",
    "import pyro\n",
    "from pyro.distributions import Uniform, Normal\n",
    "from pyro.infer import Importance, Marginal, SVI\n",
    "from pyro.optim import Adam\n",
    "\n",
    "import matplotlib.pyplot as plt\n",
    "import seaborn as sns\n",
    "from jupyterthemes import jtplot\n",
    "jtplot.style('oceans16')\n",
    "\n",
    "%matplotlib inline"
   ]
  },
  {
   "cell_type": "code",
   "execution_count": 2,
   "metadata": {},
   "outputs": [],
   "source": [
    "little_g = 9.8 # m/s/s\n",
    "mu0 = 0.12 # coefficient of friction\n",
    "time_measurement_sigma = 0.02 # observation noise in s"
   ]
  },
  {
   "cell_type": "code",
   "execution_count": 11,
   "metadata": {},
   "outputs": [],
   "source": [
    "# Forward simulator\n",
    "\n",
    "def simulate(mu, length=2.0, phi=np.pi/6.0, dt=0.005, noise_sigma=None):\n",
    "    T = Variable(torch.zeros(1))\n",
    "    velocity = Variable(torch.zeros(1))\n",
    "    displacement = Variable(torch.zeros(1))\n",
    "    acceleration = Variable(torch.Tensor([little_g * np.sin(phi)])) - \\\n",
    "    Variable(torch.Tensor([little_g * np.cos(phi)])) * mu\n",
    "    \n",
    "    if acceleration.data.numpy() <= 0.0: # if friction too large box won't slide biotch\n",
    "        return Variable(torch.Tensor([1.0e5]))\n",
    "    \n",
    "    while displacement.data.numpy() < length:\n",
    "        displacement += velocity * dt\n",
    "        velocity += acceleration * dt\n",
    "        T += dt\n",
    "        \n",
    "    if noise_sigma is None:\n",
    "        return T\n",
    "    else:\n",
    "        return T + Variable(noise_sigma * torch.randn(1))"
   ]
  },
  {
   "cell_type": "code",
   "execution_count": 24,
   "metadata": {},
   "outputs": [],
   "source": [
    "def analytic_T(mu, length=2.0, phi=np.pi/6.0):\n",
    "    numerator = 2.0*length\n",
    "    denominator = little_g * (np.sin(phi) - mu*np.cos(phi))\n",
    "    return np.sqrt(numerator / denominator)"
   ]
  },
  {
   "cell_type": "code",
   "execution_count": 32,
   "metadata": {},
   "outputs": [],
   "source": [
    "N_obs = 20\n",
    "observed_data = torch.cat([simulate(mu0, noise_sigma=time_measurement_sigma)\n",
    "                         for _ in range(N_obs)])\n",
    "observed_mean = np.mean([T.data.numpy() for T in observed_data])"
   ]
  },
  {
   "cell_type": "code",
   "execution_count": 39,
   "metadata": {},
   "outputs": [],
   "source": [
    "def model(observed_data):\n",
    "    mu_prior = Uniform(Variable(torch.zeros(1)), Variable(torch.ones(1)))\n",
    "    mu = pyro.sample(\"mu\", mu_prior)\n",
    "    \n",
    "    def observe_T(T_obs, obs_name):\n",
    "        T_simulated = simulate(mu)\n",
    "        T_obs_dist = Normal(T_simulated,\n",
    "                            Variable(torch.Tensor([time_measurement_sigma])))\n",
    "        pyro.observe(obs_name, T_obs_dist, T_obs)\n",
    "    \n",
    "    for i, T_obs in enumerate(observed_data):\n",
    "        observe_T(T_obs, \"obs_%d\" % i)\n",
    "        \n",
    "    return mu        "
   ]
  },
  {
   "cell_type": "code",
   "execution_count": 40,
   "metadata": {},
   "outputs": [
    {
     "name": "stdout",
     "output_type": "stream",
     "text": [
      "doing improtance sampling...\n"
     ]
    }
   ],
   "source": [
    "num_samples = 500\n",
    "posterior = Importance(model, guide=None, num_samples=num_samples)\n",
    "marginal = Marginal(posterior)\n",
    "print(\"doing improtance sampling...\")\n",
    "posterior_samples = [marginal(observed_data) for i in range(num_samples)]"
   ]
  },
  {
   "cell_type": "code",
   "execution_count": 43,
   "metadata": {},
   "outputs": [
    {
     "data": {
      "text/plain": [
       "<matplotlib.axes._subplots.AxesSubplot at 0x2281e8b2128>"
      ]
     },
     "execution_count": 43,
     "metadata": {},
     "output_type": "execute_result"
    },
    {
     "data": {
      "image/png": "[encoded data removed]",
      "text/plain": [
       "<matplotlib.figure.Figure at 0x2281b4cd828>"
      ]
     },
     "metadata": {},
     "output_type": "display_data"
    }
   ],
   "source": [
    "sns.distplot(torch.cat(posterior_samples).data.numpy())"
   ]
  },
  {
   "cell_type": "code",
   "execution_count": 44,
   "metadata": {},
   "outputs": [],
   "source": [
    "posterior_mean = torch.mean(torch.cat(posterior_samples))\n",
    "posterior_std = torch.std(torch.cat(posterior_samples), 0)"
   ]
  },
  {
   "cell_type": "code",
   "execution_count": 45,
   "metadata": {},
   "outputs": [
    {
     "name": "stdout",
     "output_type": "stream",
     "text": [
      "the coefficient of friction inferred by pyro is 0.122 +- 0.004\n"
     ]
    }
   ],
   "source": [
    "inferred_mu = posterior_mean.data.numpy()\n",
    "inferred_mu_uncertainty = posterior_std.data.numpy()\n",
    "print(\"the coefficient of friction inferred by pyro is %.3f +- %.3f\" %\n",
    "          (inferred_mu, inferred_mu_uncertainty))"
   ]
  },
  {
   "cell_type": "code",
   "execution_count": 47,
   "metadata": {},
   "outputs": [
    {
     "name": "stdout",
     "output_type": "stream",
     "text": [
      "the mean observed descent time in the dataset is: 1.0196 seconds\n",
      "the (forward) simulated descent time for the inferred (mean) mu is: 1.0200 seconds\n",
      "disregarding measurement noise, elementary calculus gives the descent time\n",
      "for the inferred (mean) mu as: 1.0170 seconds\n"
     ]
    }
   ],
   "source": [
    "print(\"the mean observed descent time in the dataset is: %.4f seconds\" % observed_mean)\n",
    "print(\"the (forward) simulated descent time for the inferred (mean) mu is: %.4f seconds\" %\n",
    "      simulate(posterior_mean).data.numpy())\n",
    "print((\"disregarding measurement noise, elementary calculus gives the descent time\\n\" +\n",
    "       \"for the inferred (mean) mu as: %.4f seconds\") % analytic_T(posterior_mean.data.numpy()))"
   ]
  },
  {
   "cell_type": "code",
   "execution_count": 53,
   "metadata": {},
   "outputs": [
    {
     "data": {
      "text/plain": [
       "Variable containing:\n",
       " 1.0179\n",
       " 1.0233\n",
       " 1.0088\n",
       " 0.9879\n",
       " 1.0171\n",
       " 0.9971\n",
       " 1.0256\n",
       " 1.0453\n",
       " 1.0019\n",
       " 1.0313\n",
       " 1.0210\n",
       " 1.0444\n",
       " 1.0077\n",
       " 1.0110\n",
       " 1.0418\n",
       " 1.0086\n",
       " 1.0210\n",
       " 1.0387\n",
       " 1.0069\n",
       " 1.0344\n",
       "[torch.FloatTensor of size 20]"
      ]
     },
     "execution_count": 53,
     "metadata": {},
     "output_type": "execute_result"
    }
   ],
   "source": [
    "observed_data"
   ]
  },
  {
   "cell_type": "code",
   "execution_count": 54,
   "metadata": {},
   "outputs": [
    {
     "data": {
      "text/plain": [
       "Variable containing:\n",
       " 1.0200\n",
       "[torch.FloatTensor of size 1]"
      ]
     },
     "execution_count": 54,
     "metadata": {},
     "output_type": "execute_result"
    }
   ],
   "source": [
    "simulate(mu0)"
   ]
  },
  {
   "cell_type": "code",
   "execution_count": null,
   "metadata": {},
   "outputs": [],
   "source": []
  }
 ],
 "metadata": {
  "kernelspec": {
   "display_name": "Python 3",
   "language": "python",
   "name": "python3"
  },
  "language_info": {
   "codemirror_mode": {
    "name": "ipython",
    "version": 3
   },
   "file_extension": ".py",
   "mimetype": "text/x-python",
   "name": "python",
   "nbconvert_exporter": "python",
   "pygments_lexer": "ipython3",
   "version": "3.5.4"
  }
 },
 "nbformat": 4,
 "nbformat_minor": 2
}
