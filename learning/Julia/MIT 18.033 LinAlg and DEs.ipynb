{
 "cells": [
  {
   "cell_type": "code",
   "execution_count": 1,
   "metadata": {},
   "outputs": [
    {
     "name": "stderr",
     "output_type": "stream",
     "text": [
      "\u001b[1m\u001b[36mINFO: \u001b[39m\u001b[22m\u001b[36mRecompiling stale cache file C:\\Users\\ares\\.julia\\lib\\v0.6\\ColorTypes.ji for module ColorTypes.\n",
      "\u001b[39m\u001b[1m\u001b[36mINFO: \u001b[39m\u001b[22m\u001b[36mRecompiling stale cache file C:\\Users\\ares\\.julia\\lib\\v0.6\\Colors.ji for module Colors.\n",
      "\u001b[39m\u001b[1m\u001b[36mINFO: \u001b[39m\u001b[22m\u001b[36mRecompiling stale cache file C:\\Users\\ares\\.julia\\lib\\v0.6\\Plots.ji for module Plots.\n",
      "\u001b[39m\u001b[1m\u001b[36mINFO: \u001b[39m\u001b[22m\u001b[36mRecompiling stale cache file C:\\Users\\ares\\.julia\\lib\\v0.6\\PDMats.ji for module PDMats.\n",
      "\u001b[39m\u001b[1m\u001b[36mINFO: \u001b[39m\u001b[22m\u001b[36mRecompiling stale cache file C:\\Users\\ares\\.julia\\lib\\v0.6\\Distributions.ji for module Distributions.\n",
      "\u001b[39m"
     ]
    }
   ],
   "source": [
    "using Plots\n",
    "using Distributions"
   ]
  },
  {
   "cell_type": "code",
   "execution_count": 4,
   "metadata": {},
   "outputs": [
    {
     "data": {
      "text/plain": [
       "0"
      ]
     },
     "execution_count": 4,
     "metadata": {},
     "output_type": "execute_result"
    }
   ],
   "source": [
    "2 - 6 + 4"
   ]
  },
  {
   "cell_type": "markdown",
   "metadata": {},
   "source": [
    "Properties of matrix vector multiplication\n",
    "0. For any matrix , and the zero vector 0:\n",
    "\n",
    "$$  \\mathbf{A}\\mathbf{0} = \\mathbf{0}.$$\n",
    "            \n",
    "1. For any matrix , a  scalar, and a vector x:\n",
    "\n",
    "$$  \\mathbf{A}(c\\mathbf{x}) = c(\\mathbf{A}\\mathbf{x}).$$\n",
    "\n",
    "2. For any matrix , and vectors x and y:\n",
    "\n",
    "$$  \\mathbf{A}(\\mathbf{x}+\\mathbf{y}) = \\mathbf{A}\\mathbf{x}+ \\mathbf{A}\\mathbf{y}.$$"
   ]
  },
  {
   "cell_type": "markdown",
   "metadata": {},
   "source": [
    "A matrix can also be seen as a $m\\times n$ function that maps from $\\mathbb {R}^n$ to $\\mathbb {R}^m$"
   ]
  },
  {
   "cell_type": "code",
   "execution_count": 10,
   "metadata": {},
   "outputs": [
    {
     "name": "stdout",
     "output_type": "stream",
     "text": [
      "[12, 47, 89]\n"
     ]
    }
   ],
   "source": [
    "# example A as a function from R^2 to R^3\n",
    "A = [1 2;\n",
    "     4 7;\n",
    "     8 9];\n",
    "\n",
    "v = [10; 1];\n",
    "\n",
    "println(A*v)"
   ]
  },
  {
   "cell_type": "markdown",
   "metadata": {},
   "source": [
    "Standard basis functions of $\\mathbb {R}^2$: \n",
    "\n",
    "$\\mathbf {e}_1 = \\begin{pmatrix} 1 \\\\ 0 \\end{pmatrix}$, $\\mathbf {e}_2 = \\begin{pmatrix} 0 \\\\ 1 \\end{pmatrix}$"
   ]
  },
  {
   "cell_type": "code",
   "execution_count": 15,
   "metadata": {},
   "outputs": [
    {
     "data": {
      "text/plain": [
       "2-element Array{Int64,1}:\n",
       " -3\n",
       "  0"
      ]
     },
     "execution_count": 15,
     "metadata": {},
     "output_type": "execute_result"
    }
   ],
   "source": [
    "[-3 1; 0 2] * [1; 0]"
   ]
  },
  {
   "cell_type": "code",
   "execution_count": 19,
   "metadata": {},
   "outputs": [
    {
     "name": "stdout",
     "output_type": "stream",
     "text": [
      "[-3, 0]\n",
      "[1, 2]\n"
     ]
    }
   ],
   "source": [
    "println([-3*1 + 1*0 ; 0*1 + 2*0])\n",
    "println([-3*0 + 1*1 ; 0*0 + 2*1])"
   ]
  },
  {
   "cell_type": "markdown",
   "metadata": {},
   "source": [
    "As we can see nio, the matrix $\\mathbf {A} = \\begin{pmatrix} -3 & 1 \\\\ 0 & 2 \\end{pmatrix}$ projects the standard basis functions onto its column vectors"
   ]
  },
  {
   "cell_type": "markdown",
   "metadata": {},
   "source": [
    "## Example: Rotation\n",
    "\n",
    "For an angle $\\theta$ there is a 2x2 matrix $\\mathbf {R}$ mapping a function that rotates each vector in $\\mathbb {R}^2$ counter-clockwise by $\\theta$\n",
    "\n",
    "![](https://prod-edxapp.edx-cdn.org/assets/courseware/v1/1bc39dfe4231ff479624eb3003bcfe50/asset-v1:MITx+18.033x+1T2018+type@asset+block/images_rotation.svg)\n",
    "\n",
    "By design, the matrix maps the vector $\\begin{pmatrix} 1 \\\\ 0 \\end{pmatrix}$ to $\\begin{pmatrix} \\cos \\theta \\\\ \\sin \\theta \\end{pmatrix}$, and $\\begin{pmatrix} 0 \\\\ 1 \\end{pmatrix}$ to $\\begin{pmatrix} -\\sin \\theta \\\\ \\cos \\theta \\end{pmatrix}$\n",
    "\n",
    "Thus, applying the reasoning we learned with matrix A above, the matrix R should be: $\\mathbf {R} = \\begin{pmatrix} \\cos \\theta & -\\sin \\theta \\\\ \\sin \\theta & \\cos \\theta \\end{pmatrix}$"
   ]
  },
  {
   "cell_type": "markdown",
   "metadata": {},
   "source": [
    "## 3D Rotation\n",
    "\n",
    "![](https://prod-edxapp.edx-cdn.org/assets/courseware/v1/56864bd095a3d6170fec29fbbe62546a/asset-v1:MITx+18.033x+1T2018+type@asset+block/images_rotating-around-z.svg)\n",
    "\n",
    "The rotation matrix for rotating the x-y plane in $\\mathbb {R}^3$ counterclockwise by angle $\\theta$ is:\n",
    "\n",
    "$\\mathbf {A} = \\begin{pmatrix} \\cos \\theta &  -\\sin \\theta &  0 \\\\ \\sin \\theta &  \\cos \\theta &  0 \\\\ 0 &  0 &  1\\end{pmatrix}$"
   ]
  },
  {
   "cell_type": "markdown",
   "metadata": {},
   "source": [
    "<img src=\"C:\\Code\\learning\\Julia\\images\\matrix_rules.png\">"
   ]
  },
  {
   "cell_type": "code",
   "execution_count": null,
   "metadata": {},
   "outputs": [],
   "source": []
  }
 ],
 "metadata": {
  "kernelspec": {
   "display_name": "Julia 0.6.2",
   "language": "julia",
   "name": "julia-0.6"
  },
  "language_info": {
   "file_extension": ".jl",
   "mimetype": "application/julia",
   "name": "julia",
   "version": "0.6.2"
  }
 },
 "nbformat": 4,
 "nbformat_minor": 2
}
